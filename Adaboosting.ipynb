{
 "cells": [
  {
   "cell_type": "code",
   "execution_count": null,
   "metadata": {
    "collapsed": true
   },
   "outputs": [],
   "source": [
    "import numpy as np\n",
    "import matplotlib.pyplot as plt\n",
    "import scipy\n",
    "\n",
    "from mnist import MNIST\n",
    "import math\n",
    "from numpy import linalg as LA\n",
    "%matplotlib inline\n",
    "mndata = MNIST('./data')\n",
    "images_training, labels_training = mndata.load_training()\n",
    "images_testing, labels_testing = mndata.load_testing()  \n",
    "print(len(images_testing))\n",
    "print(len(images_training))"
   ]
  },
  {
   "cell_type": "code",
   "execution_count": null,
   "metadata": {
    "collapsed": true
   },
   "outputs": [],
   "source": [
    "import time\n",
    "start_time = time.time()"
   ]
  },
  {
   "cell_type": "code",
   "execution_count": null,
   "metadata": {
    "collapsed": true
   },
   "outputs": [],
   "source": [
    "training_X = np.matrix(images_training[:20000])\n",
    "training_Y = np.matrix(labels_training[:20000])\n",
    "testing_X = np.matrix(images_testing[:10000])\n",
    "testing_Y = np.matrix(labels_testing[:10000])\n",
    "\n"
   ]
  },
  {
   "cell_type": "code",
   "execution_count": null,
   "metadata": {
    "collapsed": true
   },
   "outputs": [],
   "source": [
    "training_X = training_X/127.5-1\n",
    "testing_X = testing_X/127.5-1\n",
    "\n"
   ]
  },
  {
   "cell_type": "code",
   "execution_count": null,
   "metadata": {
    "collapsed": true
   },
   "outputs": [],
   "source": [
    "def loadSimData(classnum,training_X,training_Y,testing_X,testing_Y):\n",
    "    \n",
    "    tmp_train = np.ones((1,20000))\n",
    "    for i in range(20000):\n",
    "        if training_Y[0,i] == classnum:\n",
    "            tmp_train[0,i] =1\n",
    "        else:\n",
    "            tmp_train[0,i] = -1    \n",
    "    datMat_train = training_X\n",
    "    classLabels_train = tmp_train\n",
    "    \n",
    "    tmp_test = np.ones((1,10000))\n",
    "    for i in range(10000):\n",
    "        if testing_Y[0,i] == classnum:\n",
    "            tmp_test[0,i] =1\n",
    "        else:\n",
    "            tmp_test[0,i] = -1    \n",
    "    datMat_test = testing_X\n",
    "    classLabels_test = tmp_test\n",
    "      \n",
    "    \n",
    "    return datMat_train, classLabels_train, datMat_test, classLabels_test"
   ]
  },
  {
   "cell_type": "code",
   "execution_count": null,
   "metadata": {
    "collapsed": true
   },
   "outputs": [],
   "source": [
    "# decision tree\n",
    "def stumpClassify(dataMatrix,dimen,thresholdValue,thresholdIneq):\n",
    "    \n",
    "    returnArray =  np.ones((np.shape(dataMatrix)[0],1))\n",
    "    if thresholdIneq == 'lt':\n",
    "        returnArray[dataMatrix[:,dimen] <= thresholdValue] = -1\n",
    "    else:\n",
    "        returnArray[dataMatrix[:,dimen] > thresholdValue] = -1\n",
    "    return returnArray"
   ]
  },
  {
   "cell_type": "code",
   "execution_count": null,
   "metadata": {
    "collapsed": true
   },
   "outputs": [],
   "source": [
    "def buildStump(dataArray,classLabels,D):\n",
    "    \n",
    "    dataMatrix = np.mat(dataArray)\n",
    "    labelMat = np.mat(classLabels).T\n",
    "    m,n = np.shape(dataMatrix)\n",
    "    stepsize = 50\n",
    "    bestStump = {}\n",
    "    bestClassEst = np.mat(np.zeros((m,1)))\n",
    "    minError = np.inf\n",
    "    for i in range(n):\n",
    "#         rangeMin = dataMatrix[:,i].min(); rangeMax = dataMatrix[:,i].max()\n",
    "#         stepSize = (rangeMax - rangeMin)/stepNum\n",
    "#         for j in range(-1, int(stepNum)+1):\n",
    "        for j in range(50):\n",
    "            for thresholdIneq in ['lt', 'gt']:\n",
    "                thresholdValue = float(j)/stepsize\n",
    "                predictClass = stumpClassify(dataMatrix,i,thresholdValue,thresholdIneq)\n",
    "                errArray =  np.mat(np.ones((m,1)))\n",
    "                errArray[predictClass == labelMat] = 0  #setting the correctly classified to zero \n",
    "                weightError = D.T * errArray\n",
    "                #print \"split: dim %d, thresh: %.2f,threIneq:%s,weghtError %.3F\" %(i,thresholdValue,thresholdIneq,weightError)\n",
    "                if weightError < minError:\n",
    "                    minError = weightError\n",
    "                    bestClassEst = predictClass.copy()\n",
    "                    bestStump['dimen'] = i\n",
    "                    bestStump['thresholdValue'] = thresholdValue\n",
    "                    bestStump['thresholdIneq'] = thresholdIneq\n",
    "    return bestClassEst, minError, bestStump\n",
    "\n",
    "\n"
   ]
  },
  {
   "cell_type": "code",
   "execution_count": null,
   "metadata": {
    "collapsed": true
   },
   "outputs": [],
   "source": [
    "def adaBoostTrainDS(dataArray,classLabels,numIt=250):\n",
    "    '''\n",
    "    输入：数据集，标签向量，最大迭代次数\n",
    "    功能：创建adaboost加法模型\n",
    "    输出：多个弱分类器的数组\n",
    "    '''\n",
    "    Margin =[]\n",
    "    Index = [] \n",
    "    AGG = []\n",
    "    weakClass = []#定义弱分类数组，保存每个基本分类器bestStump\n",
    "    m,n = np.shape(dataArray)\n",
    "    D = np.mat(np.ones((m,1))/m)\n",
    "    aggClassEst = np.mat(np.zeros((m,1)))\n",
    "    for i in range(numIt):\n",
    "        print (\"i:\",i)\n",
    "        bestClassEst, minError, bestStump = buildStump(dataArray,classLabels,D)#step1:找到最佳的单层决策树\n",
    "#         print (\"D.T:\", D.T)\n",
    "        alpha = float(0.5*np.log((1-minError)/max(minError,1e-16)))#step2: 更新alpha\n",
    "        print (\"alpha:\",alpha)\n",
    "        bestStump['alpha'] = alpha\n",
    "        weakClass.append(bestStump)#step3:将基本分类器添加到弱分类的数组中\n",
    "#         print (\"classEst:\",bestClassEst)\n",
    "        expon = np.multiply(-1*alpha*np.mat(classLabels).T,bestClassEst)\n",
    "    #collect margin \n",
    "        D = np.multiply(D, np.exp(expon))\n",
    "#         D = D/D.sum()#step4:更新权重，该式是让D服从概率分布\n",
    "        tmpindex = np.argmax(D, axis=0)\n",
    "        Index.append(tmpindex)\n",
    "        aggClassEst += alpha*bestClassEst#steo5:更新累计类别估计值 updating gi(n)\n",
    "#         expon = np.multiply(-1*np.mat(classLabels).T,aggClassEst)\n",
    "#         D=np.exp(expon)/D.sum()\n",
    "        if i==4 or i==9 or i== 49 or i== 99 or i == 249:\n",
    "            tmpmargin = np.multiply(np.mat(classLabels).T,aggClassEst)\n",
    "            print(\"tmpmargin\",tmpmargin)\n",
    "            Margin.append(tmpmargin)\n",
    "#         print (\"aggClassEst:\",aggClassEst.T)\n",
    "#         print (np.sign(aggClassEst) != np.mat(classLabels).T)\n",
    "        aggError = np.multiply(np.sign(aggClassEst) != np.mat(classLabels).T,np.ones((m,1)))\n",
    "#         print (\"aggError\",aggError)\n",
    "        aggErrorRate = aggError.sum()/m\n",
    "        AGG.append(aggErrorRate)\n",
    "        print (\"total training error:\",aggErrorRate)\n",
    "        if aggErrorRate == 0.0: break\n",
    "    return weakClass, AGG, Index, Margin,aggClassEst"
   ]
  },
  {
   "cell_type": "code",
   "execution_count": null,
   "metadata": {
    "collapsed": true
   },
   "outputs": [],
   "source": [
    "if __name__  ==  '__main__':\n",
    "    D =np.mat(np.ones((20000,1))/20000)\n",
    "    total_AGG_TRAIN=[]\n",
    "    total_Index=[]\n",
    "    total_Margin=[]\n",
    "    total_AGG_TEST=[]\n",
    "    total_aggclassEst = []\n",
    "    total_weakclasses = []\n",
    "    for i in range(10):\n",
    "        dataMatrix_train ,classLabels_train, dataMatrix_test ,classLabels_test = loadSimData(i,training_X,training_Y,testing_X,testing_Y)\n",
    "        bestClassEst, minError, bestStump = buildStump(dataMatrix_train,classLabels_train,D)\n",
    "        weakClass,AGG_TRAIN, Index, Margin,aggClassEst = adaBoostTrainDS(dataMatrix_train,classLabels_train,250)                \n",
    "        AGG_TEST = adaTestClassify(dataMatrix_test,classLabels_test,weakClass)\n",
    "        total_AGG_TRAIN.append(AGG_TRAIN)\n",
    "        total_Index.append(Index)\n",
    "        total_Margin.append(Margin)\n",
    "        total_AGG_TEST.append(AGG_TEST)\n",
    "        total_aggclassEst.append(aggClassEst)\n",
    "        total_weakclasses.append(weakClass)\n",
    "    print(\"--- %s seconds ---\" % (time.time() - start_time))"
   ]
  },
  {
   "cell_type": "code",
   "execution_count": null,
   "metadata": {
    "collapsed": true
   },
   "outputs": [],
   "source": [
    "import numpy as np\n",
    "import matplotlib.pyplot as plt\n",
    "\n",
    "data0 = total_Margin[9][0]\n",
    "data1 = total_Margin[9][1]\n",
    "data2 = total_Margin[9][2]\n",
    "data3 = total_Margin[9][3]\n",
    "data4 = Margintmp[9]\n",
    "# Choose how many bins you want here\n",
    "num_bins = 1000\n",
    "\n",
    "# Use the histogram function to bin the data\n",
    "counts0, bin_edges0 = np.histogram(data0, bins=num_bins, normed=True)\n",
    "counts1, bin_edges1 = np.histogram(data1, bins=num_bins, normed=True)\n",
    "counts2, bin_edges2 = np.histogram(data2, bins=num_bins, normed=True)\n",
    "counts3, bin_edges3 = np.histogram(data3, bins=num_bins, normed=True)\n",
    "counts4, bin_edges4 = np.histogram(data4, bins=num_bins, normed=True)\n",
    "\n",
    "# Now find the cdf\n",
    "cdf0 = np.cumsum(counts0)\n",
    "cdf1 = np.cumsum(counts1)\n",
    "cdf2 = np.cumsum(counts2)\n",
    "cdf3 = np.cumsum(counts3)\n",
    "cdf4 = np.cumsum(counts4)\n",
    "\n",
    "\n",
    "fig = plt.figure()\n",
    "ax = plt.subplot(111)\n",
    "# And finally plot the cdf\n",
    "ax.plot(bin_edges0[1:], cdf0/100,label='5 iterations')\n",
    "ax.plot(bin_edges1[1:], cdf1/100,label='10 itearations')\n",
    "ax.plot(bin_edges2[1:], cdf2/100,label='50 iterations')\n",
    "ax.plot(bin_edges3[1:], cdf3/100,label='100 iterations')\n",
    "ax.plot(bin_edges4[1:], cdf4/100,label='250 iterations')\n",
    "\n",
    "ax.legend()\n",
    "ax.set_title(\"cdf for margin of digit 9\")\n",
    "plt.show()"
   ]
  },
  {
   "cell_type": "code",
   "execution_count": null,
   "metadata": {
    "collapsed": true
   },
   "outputs": [],
   "source": [
    "import matplotlib.pyplot as plt\n",
    "## Plot of the loss over training for the training, validation and test sets\n",
    "plt.figure(figsize=(20,10))\n",
    "plt.plot(range(len(np.squeeze(total_Index[9]))), np.squeeze(total_Index[9]), label='digit 9')\n",
    "plt.xlabel('epoch')\n",
    "plt.ylabel('Index')\n",
    "plt.legend(shadow=True, prop={'size': 12})\n",
    "plt.title(\"Maximum weight index over the iteration(9 vs others)\")\n",
    "plt.show()"
   ]
  },
  {
   "cell_type": "code",
   "execution_count": null,
   "metadata": {
    "collapsed": true
   },
   "outputs": [],
   "source": [
    "#plotting the three most frequently labels in the training set \n",
    "fig, ax = plt.subplots(nrows=1, ncols=3)\n",
    "\n",
    "plt.subplot(1, 3, 1)\n",
    "plt.imshow(training_X[18598].reshape((28,28)))\n",
    "\n",
    "plt.subplot(1, 3, 2)\n",
    "plt.imshow(training_X[80].reshape((28,28)))\n",
    "\n",
    "plt.subplot(1, 3, 3)\n",
    "plt.imshow(training_X[1352].reshape((28,28)))\n",
    "\n",
    "plt.show()"
   ]
  },
  {
   "cell_type": "code",
   "execution_count": null,
   "metadata": {
    "collapsed": true
   },
   "outputs": [],
   "source": [
    "## Plot of the loss over training for the training, validation and test sets\n",
    "plt.figure(figsize=(20,10))\n",
    "plt.plot(range(len(total_AGG_TRAIN[9])), total_AGG_TRAIN[9], label='Train')\n",
    "plt.plot(range(len(total_AGG_TEST[9])), total_AGG_TEST[9], label='Train')\n",
    "plt.xlabel('epoch')\n",
    "plt.ylabel('loss')\n",
    "plt.legend(shadow=True, prop={'size': 12})\n",
    "plt.title(\"Error rate over the iteration(9 vs others)\")\n",
    "plt.show()"
   ]
  },
  {
   "cell_type": "code",
   "execution_count": null,
   "metadata": {
    "collapsed": true
   },
   "outputs": [],
   "source": []
  }
 ],
 "metadata": {
  "kernelspec": {
   "display_name": "Python 3",
   "language": "python",
   "name": "python3"
  },
  "language_info": {
   "codemirror_mode": {
    "name": "ipython",
    "version": 3
   },
   "file_extension": ".py",
   "mimetype": "text/x-python",
   "name": "python",
   "nbconvert_exporter": "python",
   "pygments_lexer": "ipython3",
   "version": "3.5.4"
  }
 },
 "nbformat": 4,
 "nbformat_minor": 2
}
